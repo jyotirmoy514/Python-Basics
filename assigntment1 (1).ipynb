{
 "cells": [
  {
   "cell_type": "raw",
   "id": "0dcfb03e-72ed-476b-b902-318f5aeed6b8",
   "metadata": {},
   "source": [
    "q1.\n",
    "=python is a programming language for creating instructions for a computer to follow.\n",
    "          python is popular cz of;- widly used in the industries,data industry,lots of libaries,ease to learning n reading,hug active communites,,so on."
   ]
  },
  {
   "cell_type": "raw",
   "id": "110085d4-10a0-48fa-8860-76365f82bf84",
   "metadata": {},
   "source": [
    "q2.\n",
    "= python interpreter that translates python code into machine code,allowing the computer to understanding and execute it"
   ]
  },
  {
   "cell_type": "raw",
   "id": "45336180-b3bb-44b7-8e32-a5a613775305",
   "metadata": {},
   "source": [
    "q3\n",
    "=pre defined keywords; lambda,assert,for/while/break/continue,true,none,or,,,,,so on."
   ]
  },
  {
   "cell_type": "raw",
   "id": "22c7a67e-93c5-4e55-b87d-7843023cd5b0",
   "metadata": {},
   "source": [
    "q4.\n",
    "=No,keywords cannot be used as variable names cz they define the language's syntax and structure"
   ]
  },
  {
   "cell_type": "raw",
   "id": "9af9b169-a35c-4dee-8c39-8879bab6b263",
   "metadata": {},
   "source": [
    "q5.\n",
    "=mutability;edit somthings"
   ]
  },
  {
   "cell_type": "raw",
   "id": "67540421-26ef-4e97-bba0-f2078e7f78b2",
   "metadata": {},
   "source": [
    "q6.\n",
    "=lists are mutable and can be modified.\n",
    "tuples are more memory-efficient compared to lists.\n",
    "their contents cannot be changed after creation"
   ]
  },
  {
   "cell_type": "raw",
   "id": "324007b1-cd51-4df9-8c64-9ce76e2be2cd",
   "metadata": {},
   "source": [
    "q7.\n",
    "= is compares the identity of objects,while ==compares the equality of objects"
   ]
  },
  {
   "cell_type": "raw",
   "id": "71cc3d09-652a-4160-961c-f065ccba7c72",
   "metadata": {},
   "source": [
    "q8.\n",
    "=logical operators ; and / or"
   ]
  },
  {
   "cell_type": "raw",
   "id": "5fb1c251-7a27-4aa1-b9ff-f6d448e076c1",
   "metadata": {},
   "source": [
    "q9.\n",
    "=the process of changing data type of a value/object in python"
   ]
  },
  {
   "cell_type": "raw",
   "id": "2ff26a48-04fd-40d1-a838-4db8146b8ff1",
   "metadata": {},
   "source": [
    "q10.\n",
    "=implicit type casting is automatic,while explicit type casting is manual"
   ]
  },
  {
   "cell_type": "raw",
   "id": "5be4c2c9-f0e7-43c1-b055-1c5d8a9ecc66",
   "metadata": {},
   "source": [
    "q11.\n",
    "=to skip the remaining code in a loop for the current iteration and move on the next iteration"
   ]
  },
  {
   "cell_type": "raw",
   "id": "090ca763-b88f-44c1-9d4f-1a9786a41c4f",
   "metadata": {},
   "source": [
    "q12.\n",
    "=when the 1st if statement isn't true,but want to check for another condition."
   ]
  },
  {
   "cell_type": "raw",
   "id": "6a67ebe8-cb7f-47ec-9437-30b7b1b3eb23",
   "metadata": {},
   "source": [
    "q13.\n",
    "=while loop;repreatedly executed a block of code untill a condition is meet,\n",
    "for loop;iterate over a sequance of elements strings,list."
   ]
  },
  {
   "cell_type": "markdown",
   "id": "e1522ebb-0e11-4cc7-8a13-9b130adafd4a",
   "metadata": {},
   "source": [
    "q14.\n",
    "=in contrast to a 'for loop',which is generally used when the number of iterations is know beforehand,\n",
    "'while loop',is ideal for situations where the number of iterations is not predetermined and depends on some dynamic condition."
   ]
  },
  {
   "cell_type": "code",
   "execution_count": 2,
   "id": "333e0b7d-0e33-428e-ba3c-1ea8d58577b6",
   "metadata": {},
   "outputs": [
    {
     "name": "stdout",
     "output_type": "stream",
     "text": [
      "hello world\n"
     ]
    }
   ],
   "source": [
    "#pratical questions q1.\n",
    "\n",
    "print(\"hello world\")"
   ]
  },
  {
   "cell_type": "code",
   "execution_count": 4,
   "id": "0461aae2-f075-4684-a022-db9569671435",
   "metadata": {},
   "outputs": [
    {
     "name": "stdout",
     "output_type": "stream",
     "text": [
      "My name is jyotirmoy dutta and i'm 25 years old\n"
     ]
    }
   ],
   "source": [
    "#q2\n",
    "print(\"My name is jyotirmoy dutta and i'm 25 years old\")"
   ]
  },
  {
   "cell_type": "code",
   "execution_count": 7,
   "id": "8dcb3e03-6eda-4ed7-af74-7732e33aa81e",
   "metadata": {},
   "outputs": [
    {
     "name": "stdout",
     "output_type": "stream",
     "text": [
      "['False', 'None', 'True', 'and', 'as', 'assert', 'async', 'await', 'break', 'class', 'continue', 'def', 'del', 'elif', 'else', 'except', 'finally', 'for', 'from', 'global', 'if', 'import', 'in', 'is', 'lambda', 'nonlocal', 'not', 'or', 'pass', 'raise', 'return', 'try', 'while', 'with', 'yield']\n"
     ]
    }
   ],
   "source": [
    "#q3\n",
    "import keyword\n",
    "print(keyword.kwlist)"
   ]
  },
  {
   "cell_type": "code",
   "execution_count": 10,
   "id": "af57a49d-7eb9-4edc-a90a-56a63f090a8f",
   "metadata": {},
   "outputs": [
    {
     "name": "stdout",
     "output_type": "stream",
     "text": [
      "i will play cricket\n"
     ]
    }
   ],
   "source": [
    "#q4\n",
    "weather = \"sunny\"\n",
    "if weather ==\"sunny\":\n",
    "    print(\"i will play cricket\")\n",
    "else:\n",
    "    print(\"i will watch cricket\")"
   ]
  },
  {
   "cell_type": "code",
   "execution_count": 27,
   "id": "6f3c37e6-ec3a-4356-a8f2-1f22ac2e16ee",
   "metadata": {},
   "outputs": [
    {
     "name": "stdout",
     "output_type": "stream",
     "text": [
      "mango\n",
      "banana\n",
      "orange\n",
      "cocunut\n"
     ]
    }
   ],
   "source": [
    "#q5\n",
    "#list\n",
    "fruits=[\"apple\",\"banana\",\"orange\",\"cocunut\"]\n",
    "fruits[0]=\"mango\"\n",
    "for fruit in fruits:\n",
    "    print(fruit)"
   ]
  },
  {
   "cell_type": "code",
   "execution_count": 28,
   "id": "f1cccb75-7a7b-4226-9b32-151636be0e49",
   "metadata": {},
   "outputs": [
    {
     "name": "stdout",
     "output_type": "stream",
     "text": [
      "mango\n",
      "banana\n",
      "orange\n",
      "cocunut\n"
     ]
    }
   ],
   "source": [
    "#q6/7\n",
    "#mutable\n",
    "fruits=[\"apple\",\"banana\",\"orange\",\"cocunut\"]\n",
    "fruits[0]=\"mango\"\n",
    "for fruit in fruits:\n",
    "    print(fruit)"
   ]
  },
  {
   "cell_type": "code",
   "execution_count": 30,
   "id": "d097f329-8e00-4025-a6df-aca0d8d88ebd",
   "metadata": {},
   "outputs": [
    {
     "data": {
      "text/plain": [
       "True"
      ]
     },
     "execution_count": 30,
     "metadata": {},
     "output_type": "execute_result"
    }
   ],
   "source": [
    "#q8\n",
    "True and True"
   ]
  },
  {
   "cell_type": "code",
   "execution_count": 31,
   "id": "c7b5938a-606d-4c9b-9564-fb54bbef67a1",
   "metadata": {},
   "outputs": [
    {
     "data": {
      "text/plain": [
       "True"
      ]
     },
     "execution_count": 31,
     "metadata": {},
     "output_type": "execute_result"
    }
   ],
   "source": [
    "True or False"
   ]
  },
  {
   "cell_type": "code",
   "execution_count": 32,
   "id": "227ea061-5c13-4906-888f-e204b85b2611",
   "metadata": {},
   "outputs": [
    {
     "data": {
      "text/plain": [
       "5"
      ]
     },
     "execution_count": 32,
     "metadata": {},
     "output_type": "execute_result"
    }
   ],
   "source": [
    "#q9\n",
    "a=\"2\"\n",
    "b=3\n",
    "int(a)+b"
   ]
  },
  {
   "cell_type": "code",
   "execution_count": 33,
   "id": "37fa51e1-b903-4e42-ae2a-7f0f7fbedf77",
   "metadata": {},
   "outputs": [
    {
     "data": {
      "text/plain": [
       "float"
      ]
     },
     "execution_count": 33,
     "metadata": {},
     "output_type": "execute_result"
    }
   ],
   "source": [
    "b=6.8\n",
    "type(b)"
   ]
  },
  {
   "cell_type": "code",
   "execution_count": 34,
   "id": "43abe0b4-646c-49b6-84e7-6f4138ec8f9e",
   "metadata": {},
   "outputs": [
    {
     "data": {
      "text/plain": [
       "6"
      ]
     },
     "execution_count": 34,
     "metadata": {},
     "output_type": "execute_result"
    }
   ],
   "source": [
    "int(b)"
   ]
  },
  {
   "cell_type": "code",
   "execution_count": 37,
   "id": "8244e454-4cd3-49d8-9377-bf45d96b778b",
   "metadata": {},
   "outputs": [
    {
     "name": "stdout",
     "output_type": "stream",
     "text": [
      "original list: [1, 2.5, '3', True]\n",
      "list of integers: [1, 2, 3, 1]\n",
      "list of floats: [1.0, 2.5, 3.0, 1.0]\n",
      "list of strings: ['1', '2.5', '3', 'True']\n"
     ]
    }
   ],
   "source": [
    "#q10\n",
    "my_list=[1,2.5,\"3\",True]\n",
    "int_list=[int(x)for x in my_list]\n",
    "float_list=[float(x)for x in my_list]\n",
    "str_list=[str(x)for x in my_list]\n",
    "print(\"original list:\",my_list)\n",
    "print(\"list of integers:\",int_list)\n",
    "print(\"list of floats:\",float_list)\n",
    "print(\"list of strings:\",str_list)"
   ]
  },
  {
   "cell_type": "code",
   "execution_count": 59,
   "id": "b77ab43d-8f3f-4269-a829-5f49eabf6258",
   "metadata": {},
   "outputs": [
    {
     "ename": "IndentationError",
     "evalue": "unindent does not match any outer indentation level (<string>, line 7)",
     "output_type": "error",
     "traceback": [
      "\u001b[1;36m  File \u001b[1;32m<string>:7\u001b[1;36m\u001b[0m\n\u001b[1;33m    else:num is negative\u001b[0m\n\u001b[1;37m                        ^\u001b[0m\n\u001b[1;31mIndentationError\u001b[0m\u001b[1;31m:\u001b[0m unindent does not match any outer indentation level\n"
     ]
    }
   ],
   "source": [
    "#q11\n",
    "num = float(input(\"number:\"))\n",
    "if num>0:\n",
    "    print(\"positive number\")\n",
    "elif num == 0:\n",
    "     print(\"zero\")\n",
    " else:num \n",
    "     print(\"negative\")"
   ]
  },
  {
   "cell_type": "code",
   "execution_count": 61,
   "id": "16340d65-127b-463e-8ada-71bf1a337c65",
   "metadata": {},
   "outputs": [
    {
     "name": "stdout",
     "output_type": "stream",
     "text": [
      "0\n",
      "1\n",
      "2\n",
      "3\n",
      "4\n",
      "5\n",
      "6\n",
      "7\n",
      "8\n",
      "9\n"
     ]
    }
   ],
   "source": [
    "#q12\n",
    "for i in range(10):\n",
    "    print(i)\n"
   ]
  },
  {
   "cell_type": "code",
   "execution_count": 73,
   "id": "8cdba6e4-4a8e-46e4-a737-6d7930195e18",
   "metadata": {},
   "outputs": [
    {
     "name": "stdout",
     "output_type": "stream",
     "text": [
      "0\n",
      "2\n",
      "4\n",
      "6\n",
      "8\n",
      "10\n",
      "12\n",
      "14\n",
      "16\n",
      "18\n",
      "20\n",
      "22\n",
      "24\n",
      "26\n",
      "28\n",
      "30\n",
      "32\n",
      "34\n",
      "36\n",
      "38\n",
      "40\n",
      "42\n",
      "44\n",
      "46\n",
      "48\n"
     ]
    }
   ],
   "source": [
    "#q13\n",
    "for i in range(50):\n",
    "    if i%2 !=0:\n",
    "        continue\n",
    "    print(i)"
   ]
  },
  {
   "cell_type": "code",
   "execution_count": 78,
   "id": "cd2a1778-5062-4abd-afcd-dba7be0d15a3",
   "metadata": {},
   "outputs": [],
   "source": [
    "#q14\n",
    "def xyz(x,n):\n",
    "    if n==0:\n",
    "        print(x[0])\n",
    "    else:\n",
    "        print(x[n],end=\"\")\n",
    "        xyz(x,n-1)\n",
    "    x=input(\"Enter String\")\n",
    "    xyz(x,len(x)-1)"
   ]
  },
  {
   "cell_type": "code",
   "execution_count": 77,
   "id": "95280d50-6e97-45b3-8fa5-e12bbd403d5d",
   "metadata": {},
   "outputs": [
    {
     "data": {
      "text/plain": [
       "True"
      ]
     },
     "execution_count": 77,
     "metadata": {},
     "output_type": "execute_result"
    }
   ],
   "source": [
    "#q15\n",
    "0!=1"
   ]
  },
  {
   "cell_type": "code",
   "execution_count": 79,
   "id": "d8949850-460b-447f-b2f7-a845206dfe79",
   "metadata": {},
   "outputs": [
    {
     "data": {
      "text/plain": [
       "True"
      ]
     },
     "execution_count": 79,
     "metadata": {},
     "output_type": "execute_result"
    }
   ],
   "source": [
    "4!=24"
   ]
  },
  {
   "cell_type": "code",
   "execution_count": null,
   "id": "ee7ccad8-18d0-4a82-8b45-f3f3d4eb0876",
   "metadata": {},
   "outputs": [],
   "source": []
  }
 ],
 "metadata": {
  "kernelspec": {
   "display_name": "Python 3 (ipykernel)",
   "language": "python",
   "name": "python3"
  },
  "language_info": {
   "codemirror_mode": {
    "name": "ipython",
    "version": 3
   },
   "file_extension": ".py",
   "mimetype": "text/x-python",
   "name": "python",
   "nbconvert_exporter": "python",
   "pygments_lexer": "ipython3",
   "version": "3.13.1"
  }
 },
 "nbformat": 4,
 "nbformat_minor": 5
}
